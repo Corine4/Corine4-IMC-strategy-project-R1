{
 "cells": [
  {
   "cell_type": "code",
   "execution_count": 17,
   "metadata": {},
   "outputs": [],
   "source": [
    "import pandas as pd\n",
    "import glob\n",
    "import os\n",
    "import json\n",
    "import numpy as np\n",
    "import matplotlib.pyplot as plt\n",
    "import warnings\n",
    "warnings.filterwarnings(\"always\")\n",
    "import helpers\n",
    "%matplotlib inline\n"
   ]
  },
  {
   "cell_type": "markdown",
   "metadata": {},
   "source": [
    "### Notebook for an analysis\n",
    "\n",
    "DISCLAIMER: I took some basic things from this notebook from classes with Bartosz Bieganowski (Automatic Transactional Systems)\n",
    "\n",
    "The notebook can be expanded as much as we want. In fact, we are not going to implement algorithm (I might later), because it is less fun than this explanatory data analysis"
   ]
  },
  {
   "cell_type": "code",
   "execution_count": 3,
   "metadata": {},
   "outputs": [
    {
     "name": "stderr",
     "output_type": "stream",
     "text": [
      "C:\\Users\\corin\\AppData\\Local\\Temp\\ipykernel_22648\\1360508012.py:4: ResourceWarning: unclosed file <_io.TextIOWrapper name='backtests\\\\round1.log' mode='r' encoding='cp65001'>\n",
      "  content = open(os.path.join('backtests', chosen_backtest), 'r').readlines()\n",
      "ResourceWarning: Enable tracemalloc to get the object allocation traceback\n"
     ]
    }
   ],
   "source": [
    "# latest_backtest = max(os.listdir('backtests'), key=lambda x: os.path.getmtime(os.path.join('backtests', x)))\n",
    "# content = open(os.path.join('backtests', latest_backtest), 'r').readlines()\n",
    "chosen_backtest = \"round1.log\"\n",
    "content = open(os.path.join('backtests', chosen_backtest), 'r').readlines()"
   ]
  },
  {
   "cell_type": "code",
   "execution_count": 5,
   "metadata": {},
   "outputs": [],
   "source": [
    "trades_df, activity_logs_df, sandbox_logs = helpers.wrangle_backtest(content)"
   ]
  },
  {
   "cell_type": "code",
   "execution_count": 7,
   "metadata": {},
   "outputs": [
    {
     "name": "stdout",
     "output_type": "stream",
     "text": [
      "Index(['timestamp', 'buyer', 'seller', 'symbol', 'currency', 'price',\n",
      "       'quantity'],\n",
      "      dtype='object')\n"
     ]
    }
   ],
   "source": [
    "print(trades_df.columns)"
   ]
  },
  {
   "cell_type": "code",
   "execution_count": 9,
   "metadata": {},
   "outputs": [
    {
     "name": "stdout",
     "output_type": "stream",
     "text": [
      "💰 Total Profit from Round 1: 358983142.00\n"
     ]
    }
   ],
   "source": [
    "trades_df['total'] = trades_df['price'].astype(float) * trades_df['quantity'].astype(float)\n",
    "total_profit = trades_df['total'].sum()\n",
    "print(f\"💰 Total Profit from Round 1: {total_profit:.2f}\")"
   ]
  },
  {
   "cell_type": "code",
   "execution_count": 10,
   "metadata": {},
   "outputs": [],
   "source": [
    "my_trades = trades_df[\n",
    "    (trades_df['buyer'] == 'SUBMISSION') | \n",
    "    (trades_df['seller'] == 'SUBMISSION')\n",
    "]"
   ]
  },
  {
   "cell_type": "code",
   "execution_count": 12,
   "metadata": {},
   "outputs": [
    {
     "name": "stdout",
     "output_type": "stream",
     "text": [
      "💼 Profit from My Team (SUBMISSION): 271520854.00\n"
     ]
    },
    {
     "name": "stderr",
     "output_type": "stream",
     "text": [
      "C:\\Users\\corin\\AppData\\Local\\Temp\\ipykernel_22648\\2302765586.py:1: SettingWithCopyWarning: \n",
      "A value is trying to be set on a copy of a slice from a DataFrame.\n",
      "Try using .loc[row_indexer,col_indexer] = value instead\n",
      "\n",
      "See the caveats in the documentation: https://pandas.pydata.org/pandas-docs/stable/user_guide/indexing.html#returning-a-view-versus-a-copy\n",
      "  my_trades['total'] = my_trades['price'].astype(float) * my_trades['quantity'].astype(float)\n"
     ]
    }
   ],
   "source": [
    "my_trades['total'] = my_trades['price'].astype(float) * my_trades['quantity'].astype(float)\n",
    "my_profit = my_trades['total'].sum()\n",
    "print(f\"💼 Profit from My Team (SUBMISSION): {my_profit:.2f}\")"
   ]
  },
  {
   "cell_type": "code",
   "execution_count": 13,
   "metadata": {},
   "outputs": [],
   "source": [
    "instrument = \"AMETHYSTS\"\n",
    "\n",
    "ob = activity_logs_df[activity_logs_df['product'] == instrument]\n",
    "rades = trades_df[trades_df['symbol'] == instrument]\n",
    "\n",
    "my_buys = trades_df[trades_df['buyer'] == 'SUBMISSION']\n",
    "my_sells = trades_df[trades_df['seller'] == 'SUBMISSION']\n",
    "other_trades = trades_df[(trades_df['buyer'] != 'SUBMISSION') & (trades_df['seller'] != 'SUBMISSION')]"
   ]
  },
  {
   "cell_type": "code",
   "execution_count": 18,
   "metadata": {},
   "outputs": [
    {
     "data": {
      "image/png": "[encoded data removed]",
      "text/plain": [
       "<Figure size 1000x500 with 1 Axes>"
      ]
     },
     "metadata": {},
     "output_type": "display_data"
    }
   ],
   "source": [
    "# Here matplotlib qt is used for displaying graphs in different windows, etc. If you want to disable it, hash it above\n",
    "plt.figure(figsize=(10, 5))\n",
    "plt.plot(ob['bid_price_1'], label='bid_price')\n",
    "plt.plot(ob['ask_price_1'], label='ask_price')\n",
    "plt.scatter(my_buys.index, my_buys['price'], label='my_buys', color='green', marker='^')\n",
    "plt.scatter(my_sells.index, my_sells['price'], label='my_sells', color='red', marker='v')\n",
    "plt.scatter(other_trades.index, other_trades['price'], label='other_trades', color='blue', marker='o')\n",
    "plt.legend()\n",
    "plt.show()\n"
   ]
  },
  {
   "cell_type": "code",
   "execution_count": 26,
   "metadata": {},
   "outputs": [],
   "source": [
    "for col in cols_to_convert:\n",
    "    ob.loc[:, col] = pd.to_numeric(ob[col], errors=\"coerce\")"
   ]
  },
  {
   "cell_type": "code",
   "execution_count": 27,
   "metadata": {},
   "outputs": [
    {
     "name": "stderr",
     "output_type": "stream",
     "text": [
      "C:\\Users\\corin\\AppData\\Local\\Temp\\ipykernel_22648\\2767755538.py:2: SettingWithCopyWarning: \n",
      "A value is trying to be set on a copy of a slice from a DataFrame.\n",
      "Try using .loc[row_indexer,col_indexer] = value instead\n",
      "\n",
      "See the caveats in the documentation: https://pandas.pydata.org/pandas-docs/stable/user_guide/indexing.html#returning-a-view-versus-a-copy\n",
      "  ob[\"mid\"] = (ob[\"bid_price_1\"] + ob[\"ask_price_1\"])/2\n",
      "C:\\Users\\corin\\AppData\\Local\\Temp\\ipykernel_22648\\2767755538.py:3: SettingWithCopyWarning: \n",
      "A value is trying to be set on a copy of a slice from a DataFrame.\n",
      "Try using .loc[row_indexer,col_indexer] = value instead\n",
      "\n",
      "See the caveats in the documentation: https://pandas.pydata.org/pandas-docs/stable/user_guide/indexing.html#returning-a-view-versus-a-copy\n",
      "  ob[\"mid_lev2\"]= (ob[\"bid_price_2\"] + ob[\"ask_price_2\"])/2\n",
      "C:\\Users\\corin\\AppData\\Local\\Temp\\ipykernel_22648\\2767755538.py:4: SettingWithCopyWarning: \n",
      "A value is trying to be set on a copy of a slice from a DataFrame.\n",
      "Try using .loc[row_indexer,col_indexer] = value instead\n",
      "\n",
      "See the caveats in the documentation: https://pandas.pydata.org/pandas-docs/stable/user_guide/indexing.html#returning-a-view-versus-a-copy\n",
      "  ob[\"weighted_mid\"]= (ob[\"bid_price_1\"] * ob[\"bid_volume_1\"] + ob[\"ask_price_1\"] * ob[\"ask_volume_1\"])/ (ob[\"bid_volume_1\"]+ob[\"ask_volume_1\"])\n",
      "C:\\Users\\corin\\AppData\\Local\\Temp\\ipykernel_22648\\2767755538.py:6: SettingWithCopyWarning: \n",
      "A value is trying to be set on a copy of a slice from a DataFrame.\n",
      "Try using .loc[row_indexer,col_indexer] = value instead\n",
      "\n",
      "See the caveats in the documentation: https://pandas.pydata.org/pandas-docs/stable/user_guide/indexing.html#returning-a-view-versus-a-copy\n",
      "  ob[\"mid_fv_divergance\"] = ob[\"mid_lev2\"] - ob[\"mid\"]\n"
     ]
    }
   ],
   "source": [
    "# here you can see how I calculated the mid. In general it is best to use VWAP (volume-weighted average price), so you also level 2 data, but you can decide whatever\n",
    "ob[\"mid\"] = (ob[\"bid_price_1\"] + ob[\"ask_price_1\"])/2\n",
    "ob[\"mid_lev2\"]= (ob[\"bid_price_2\"] + ob[\"ask_price_2\"])/2\n",
    "ob[\"weighted_mid\"]= (ob[\"bid_price_1\"] * ob[\"bid_volume_1\"] + ob[\"ask_price_1\"] * ob[\"ask_volume_1\"])/ (ob[\"bid_volume_1\"]+ob[\"ask_volume_1\"])\n",
    "\n",
    "ob[\"mid_fv_divergance\"] = ob[\"mid_lev2\"] - ob[\"mid\"]"
   ]
  },
  {
   "cell_type": "code",
   "execution_count": 28,
   "metadata": {},
   "outputs": [],
   "source": [
    "AMday0 = ob.query(\"day == 0\")\n",
    "AMday1 = ob.query(\"day == -1\")\n",
    "AMday2 = ob.query(\"day == -2\")"
   ]
  },
  {
   "cell_type": "code",
   "execution_count": 29,
   "metadata": {},
   "outputs": [],
   "source": [
    "AMday0[\"spread\"] = AMday0[\"bid_price_1\"] - AMday0[\"ask_price_1\"]\n",
    "AMday1[\"spread\"] = AMday1[\"bid_price_1\"] - AMday1[\"ask_price_1\"]\n",
    "AMday2[\"spread\"] = AMday2[\"bid_price_1\"] - AMday2[\"ask_price_1\"]"
   ]
  },
  {
   "cell_type": "code",
   "execution_count": 31,
   "metadata": {},
   "outputs": [
    {
     "data": {
      "image/png": "[encoded data removed]",
      "text/plain": [
       "<Figure size 1200x600 with 1 Axes>"
      ]
     },
     "metadata": {},
     "output_type": "display_data"
    }
   ],
   "source": [
    "plt.figure(figsize=(12, 6))\n",
    "plt.plot(AMday0[\"spread\"], label=\"Day 0 Spread\")\n",
    "plt.plot(AMday1[\"spread\"], label=\"Day 1 Spread\")\n",
    "plt.plot(AMday2[\"spread\"], label=\"Day 2 Spread\")\n",
    "plt.title(\"Spread Comparison Across Days\")\n",
    "plt.xlabel(\"Timestamp Index\")\n",
    "plt.ylabel(\"Spread (ask - bid)\")\n",
    "plt.legend()\n",
    "plt.grid(True)\n",
    "plt.show()"
   ]
  },
  {
   "cell_type": "markdown",
   "metadata": {},
   "source": [
    "Summary of Our Round 1 Trading Analysis\n",
    "\n",
    "In this notebook, we have analyzed market activity around the instrument \"AMETHYSTS\" over three different days. Our focus was to understand how the spread (difference between ask and bid prices) changed and how our team performed in the market.\n",
    "\n",
    "### Team Performance\n",
    "- The total profit generated in the market was approximately **35.9 million**.\n",
    "- Our team (labelled as \"SUBMISSION\") earned about **27.1 million**, which shows we were very active and made competitive trades.\n",
    "\n",
    "Observations on Market Spread\n",
    "- We plotted bid and ask prices alongside our own trades and others in the market. This helped us visualize how close we were to the best prices.\n",
    "- The spreads were fairly tight on all days, meaning the market was efficient.\n",
    "- We also calculated and compared the spread across three days. The plot didn’t show much variation, suggesting the market conditions were quite stable.\n",
    "\n",
    " Takeaways\n",
    "- Our trading decisions seemed well-timed and placed, especially given our strong performance.\n",
    "- Spread stability implies consistent liquidity, which is good for making frequent trades without large price slippage.\n",
    "\n",
    "This analysis helps us better understand how spread affects profitability and confirms that our team’s activity was aligned with good trading conditions."
   ]
  }
 ],
 "metadata": {
  "kernelspec": {
   "display_name": "Python 3",
   "language": "python",
   "name": "python3"
  },
  "language_info": {
   "codemirror_mode": {
    "name": "ipython",
    "version": 3
   },
   "file_extension": ".py",
   "mimetype": "text/x-python",
   "name": "python",
   "nbconvert_exporter": "python",
   "pygments_lexer": "ipython3",
   "version": "3.13.2"
  }
 },
 "nbformat": 4,
 "nbformat_minor": 2
}
